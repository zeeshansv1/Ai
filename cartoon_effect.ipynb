{
  "nbformat": 4,
  "nbformat_minor": 0,
  "metadata": {
    "colab": {
      "name": "Untitled6.1.ipynb",
      "provenance": [],
      "collapsed_sections": []
    },
    "kernelspec": {
      "name": "python3",
      "display_name": "Python 3"
    },
    "language_info": {
      "name": "python"
    }
  },
  "cells": [
    {
      "cell_type": "code",
      "execution_count": null,
      "metadata": {
        "colab": {
          "base_uri": "https://localhost:8080/"
        },
        "id": "jcdWIs1r2JnI",
        "outputId": "4098ae9c-ea0b-4848-ff9e-31330c010464"
      },
      "outputs": [
        {
          "output_type": "stream",
          "name": "stdout",
          "text": [
            "Requirement already satisfied: easygui in /usr/local/lib/python3.7/dist-packages (0.98.2)\n"
          ]
        }
      ],
      "source": [
        "import cv2 #for image processing\n",
        "!pip install easygui\n",
        "import easygui #to open the filebox\n",
        "import numpy as np #to store image\n",
        "import imageio #to read image stored at particular path\n",
        "import sys\n",
        "import matplotlib.pyplot as plt\n",
        "import os\n",
        "import tkinter as tk\n",
        "from tkinter import filedialog\n",
        "from tkinter import *\n",
        "from PIL import ImageTk, Image"
      ]
    },
    {
      "cell_type": "code",
      "source": [
        "\"\"\" fileopenbox opens the box to choose file\n",
        "and help us store file path as string \"\"\"\n",
        "def upload():\n",
        " ImagePath=easygui.fileopenbox()\n",
        " cartoonify(ImagePath)\n"
      ],
      "metadata": {
        "id": "JdhVjx5-40i6"
      },
      "execution_count": null,
      "outputs": []
    },
    {
      "cell_type": "code",
      "source": [
        "def cartoonify(ImagePath):\n",
        "  # read the image\n",
        "  originalmage = cv2.imread('/pic.jpeg')\n",
        "  originalmage = cv2.cvtColor(originalmage, cv2.COLOR_BGR2RGB)\n",
        "  #print(image) # image is stored in form of numbers\n",
        "  # confirm that image is chosen\n",
        "  if originalmage is None:\n",
        "    print(\"Can not find any image. Choose appropriate file\")\n",
        "  sys.exit()\n",
        "  ReSized1 = cv2.resize(originalmage, (960, 540))\n",
        "  #plt.imshow(ReSized1, cmap='gray')\n",
        "  #converting an image to grayscale \n",
        "  grayScaleImage = cv2.cvtColor(originalmage, cv2.COLOR_BGR2GRAY)\n",
        "  ReSized2 = cv2.resize(grayScaleImage, (960, 540))\n",
        "  #plt.imshow(ReSized2, cmap='gray')\n",
        "  #applying median blur to smoothen an image\n",
        "  smoothGrayScale = cv2.medianBlur(grayScaleImage, 5)\n",
        "  ReSized3 = cv2.resize(smoothGrayScale, (960, 540))\n",
        "  #plt.imshow(ReSized3, cmap='gray')\n",
        "  #retrieving the edges for cartoon effect\n",
        "  #by using thresholding technique\n",
        "  getEdge = cv2.adaptiveThreshold(smoothGrayScale, 255,\n",
        "  cv2.ADAPTIVE_THRESH_MEAN_C,\n",
        "  cv2.THRESH_BINARY, 9, 9)\n",
        "  ReSized4 = cv2.resize(getEdge, (960, 540))\n",
        "  #plt.imshow(ReSized4, cmap='gray')\n",
        "  #applying bilateral filter to remove noise\n",
        "  #and keep edge sharp as required\n",
        "  colorImage = cv2.bilateralFilter(originalmage, 9, 300, 300)\n",
        "  ReSized5 = cv2.resize(colorImage, (960, 540))\n",
        "  #plt.imshow(ReSized5, cmap='gray')\n",
        "  #masking edged image with our \"BEAUTIFY\" image\n",
        "  cartoonImage = cv2.bitwise_and(colorImage, colorImage, mask=getEdge)\n",
        "  ReSized6 = cv2.resize(cartoonImage, (960, 540))\n",
        "  #plt.imshow(ReSized6, cmap='gray')\n",
        "  # Plotting the whole transition\n",
        "  images=[ReSized1, ReSized2, ReSized3, ReSized4, ReSized5, ReSized6]\n",
        "  fig, axes = plt.subplots(3,2, figsize=(8,8), subplot_kw={'xticks':[], 'yticks':[]}, gridspec_kw=dict(hspace=0.1, wspace=0.1))\n",
        "  for i, ax in enumerate(axes.flat):\n",
        "    ax.imshow(images[i], cmap='gray')\n",
        "#  //save button code\n",
        "  plt.show()"
      ],
      "metadata": {
        "id": "YfyrDuby44qP"
      },
      "execution_count": null,
      "outputs": []
    }
  ]
}